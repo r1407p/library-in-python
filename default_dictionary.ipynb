{
 "cells": [
  {
   "cell_type": "markdown",
   "metadata": {},
   "source": [
    "Dictionary in python are used to stored value with key (like a map).\n",
    "\n",
    "In Dictionary, the key must be unique and immutable."
   ]
  },
  {
   "cell_type": "code",
   "execution_count": 4,
   "metadata": {},
   "outputs": [
    {
     "name": "stdout",
     "output_type": "stream",
     "text": [
      "{'a': 'Robert', 'b': 'Taiwan', 'c': 'Chiayi'}\n",
      "Robert\n"
     ]
    }
   ],
   "source": [
    "Dict = {'a':'Robert', 'b':'Taiwan','c':'Chiayi'}\n",
    "\n",
    "print(Dict)\n",
    "# {'a': 'Robert', 'b': 'Taiwan', 'c': 'Chiayi'}\n",
    "print(Dict['a'])\n",
    "# Robert\n",
    "\n",
    "#print(Dict['d'])\n"
   ]
  },
  {
   "cell_type": "markdown",
   "metadata": {},
   "source": [
    "However \"print(Dict['d'])\" will throw an error with reason \"KeyError\""
   ]
  },
  {
   "cell_type": "code",
   "execution_count": 5,
   "metadata": {},
   "outputs": [
    {
     "name": "stdout",
     "output_type": "stream",
     "text": [
      "{'a': 2, 'b': 1, 'c': 2, 'd': 1, 'w': 1}\n"
     ]
    }
   ],
   "source": [
    "alpha_list = ['a','b','c','c','d','a','w']\n",
    "counter_dict = {}\n",
    "for element in alpha_list:\n",
    "    if element in counter_dict:\n",
    "        counter_dict[element]+=1\n",
    "    else :\n",
    "        counter_dict[element]=1\n",
    "        \n",
    "print (counter_dict)\n",
    "#{'a': 2, 'b': 1, 'c': 2, 'd': 1, 'w': 1}"
   ]
  },
  {
   "cell_type": "markdown",
   "metadata": {},
   "source": [
    "If we want to use the key in Dict, we usually need to check if the keys exists."
   ]
  },
  {
   "cell_type": "markdown",
   "metadata": {},
   "source": [
    "Defaultdict is a container that provide a default value for the key that does not exists.\n",
    "\n",
    "Moreover, it provides us more efficient way to use dict."
   ]
  },
  {
   "cell_type": "code",
   "execution_count": 14,
   "metadata": {},
   "outputs": [
    {
     "name": "stdout",
     "output_type": "stream",
     "text": [
      "1\n",
      "5\n",
      "0\n",
      "defaultdict(<function <lambda> at 0x000001CD48E13820>, {'a': 2, 'b': 1, 'c': 2, 'd': 1, 'w': 1})\n"
     ]
    }
   ],
   "source": [
    "from collections import defaultdict\n",
    "\n",
    "def zero():\n",
    "    return 0\n",
    "deft_dict_0 = defaultdict(zero)    #default value will be zero() 0\n",
    "deft_dict_0 = defaultdict(lambda: 0) # same as above\n",
    "deft_dict_0[0] = 1\n",
    "deft_dict_0[1] = 5\n",
    "print(deft_dict_0[0])\n",
    "#1\n",
    "print(deft_dict_0[1])\n",
    "#5\n",
    "print(deft_dict_0[2])\n",
    "#0\n",
    "\n",
    "deft_dict_0.clear()\n",
    "alpha_list = ['a','b','c','c','d','a','w']\n",
    "for ele in alpha_list:\n",
    "    deft_dict_0[ele]+=1\n",
    "print(deft_dict_0)\n",
    "#defaultdict(<function <lambda> at 0x000001CD48E13820>, \n",
    "#{'a': 2, 'b': 1, 'c': 2, 'd': 1, 'w': 1})"
   ]
  },
  {
   "cell_type": "code",
   "execution_count": 16,
   "metadata": {},
   "outputs": [
    {
     "name": "stdout",
     "output_type": "stream",
     "text": [
      "defaultdict(<class 'list'>, {'odd': [101, 3, 7], 'even': [20], 'float': [8.4, 2.4], 'string': ['queen', 'king']})\n"
     ]
    }
   ],
   "source": [
    "from collections import defaultdict\n",
    "\n",
    "deft_dict_list = defaultdict(list)  #default value will be a list()\n",
    "\n",
    "key_values = [('odd',101),('even',20),('float',8.4),('string','queen'),('odd',3),('float',2.4),('odd',7),('string','king')]\n",
    "\n",
    "for key,value in key_values:\n",
    "    deft_dict_list[key].append(value)\n",
    "print(deft_dict_list)\n",
    "# defaultdict(<class 'list'>, \n",
    "# {'odd': [101, 3, 7], 'even': [20], 'float': [8.4, 2.4], 'string': ['queen', 'king']})\n"
   ]
  }
 ],
 "metadata": {
  "kernelspec": {
   "display_name": "Python 3.9.7 64-bit",
   "language": "python",
   "name": "python3"
  },
  "language_info": {
   "codemirror_mode": {
    "name": "ipython",
    "version": 3
   },
   "file_extension": ".py",
   "mimetype": "text/x-python",
   "name": "python",
   "nbconvert_exporter": "python",
   "pygments_lexer": "ipython3",
   "version": "3.9.7"
  },
  "orig_nbformat": 4,
  "vscode": {
   "interpreter": {
    "hash": "cf92aa13fedf815d5c8dd192b8d835913fde3e8bc926b2a0ad6cc74ef2ba3ca2"
   }
  }
 },
 "nbformat": 4,
 "nbformat_minor": 2
}

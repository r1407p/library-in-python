{
 "cells": [
  {
   "cell_type": "markdown",
   "metadata": {},
   "source": [
    "numpy allows us to us efficient vector and matrix \n"
   ]
  },
  {
   "cell_type": "code",
   "execution_count": 5,
   "metadata": {},
   "outputs": [
    {
     "name": "stdout",
     "output_type": "stream",
     "text": [
      "[1 2 3]\n",
      "[4 5 6]\n",
      "<class 'numpy.ndarray'>\n",
      "[7 2 3]\n"
     ]
    }
   ],
   "source": [
    "import numpy\n",
    "\n",
    "A = numpy.array([1,2,3])\n",
    "B = numpy.array((4,5,6))\n",
    "#create an array with list or tuple\n",
    "\n",
    "print(A)\n",
    "#[1 2 3]\n",
    "print(B)\n",
    "#[4 5 6]\n",
    "print(type(A))\n",
    "#print(type(B))\n",
    "#<class 'numpy.ndarray'>\n",
    "A[0] = 7\n",
    "print(A)\n",
    "#[7 2 3]\n"
   ]
  },
  {
   "cell_type": "markdown",
   "metadata": {},
   "source": [
    "create an array with only 0 or 1 can use .zeros or .ones"
   ]
  },
  {
   "cell_type": "code",
   "execution_count": 4,
   "metadata": {},
   "outputs": [
    {
     "name": "stdout",
     "output_type": "stream",
     "text": [
      "[0. 0. 0. 0. 0. 0. 0.]\n",
      "[1. 1. 1. 1. 1. 1. 1. 1. 1. 1. 1. 1.]\n",
      "3\n",
      "[0 1 2 3 4 5 6 7 8 9]\n",
      "[10 13 16 19]\n"
     ]
    }
   ],
   "source": [
    "import numpy as np\n",
    "\n",
    "print(np.zeros(7))\n",
    "#[0. 0. 0. 0. 0. 0. 0.]\n",
    "print(np.ones(12))\n",
    "#[1. 1. 1. 1. 1. 1. 1. 1. 1. 1. 1. 1.]\n",
    "print(np.empty(3).size)\n",
    "#np.empty create an array but dont assign  value\n",
    "print(np.arange(10))\n",
    "#[0 1 2 3 4 5 6 7 8 9]\n",
    "print(np.arange(10,20,3))\n",
    "#[10 13 16 19]"
   ]
  },
  {
   "cell_type": "markdown",
   "metadata": {},
   "source": [
    "get value from index\n"
   ]
  },
  {
   "cell_type": "code",
   "execution_count": null,
   "metadata": {},
   "outputs": [],
   "source": [
    "A = numpy.array([11,12,13])\n",
    "\n",
    "print(A[0])\n",
    "#11\n",
    "print(A[0:2])\n",
    "#[11 12]\n",
    "mask =(A % 4 == 0 )\n",
    "print(mask)\n",
    "#[False  True False\n",
    "print(A[mask])\n",
    "#[12]"
   ]
  },
  {
   "cell_type": "markdown",
   "metadata": {},
   "source": [
    "array counting\n",
    "\n",
    "array size have two be correct\n",
    "\n",
    "multiply of array is the same position to multiply\n"
   ]
  },
  {
   "cell_type": "code",
   "execution_count": 17,
   "metadata": {},
   "outputs": [
    {
     "name": "stdout",
     "output_type": "stream",
     "text": [
      "[5 7 9]\n",
      "[3 3 3]\n",
      "[ 4 10 18]\n",
      "[0.25 0.4  0.5 ]\n"
     ]
    }
   ],
   "source": [
    "import numpy as np\n",
    "\n",
    "A = numpy.array([1,2,3])\n",
    "B = numpy.array((4,5,6))\n",
    "\n",
    "result1 = A+B\n",
    "print(result1)\n",
    "#[5 7 9]\n",
    "result2 = B-A\n",
    "print(result2)\n",
    "#[3 3 3]\n",
    "result3 =A*B\n",
    "print(result3)\n",
    "#[4 10 18]\n",
    "result4 =A/B\n",
    "print(result4)\n",
    "#[0.25 0.4 0.5]"
   ]
  },
  {
   "cell_type": "markdown",
   "metadata": {},
   "source": [
    "two demision\n"
   ]
  },
  {
   "cell_type": "code",
   "execution_count": null,
   "metadata": {},
   "outputs": [],
   "source": [
    "import numpy as np\n",
    "A = np.array([[1, 2, 3], [4, 5, 6]])\n",
    "B = np.array([[7, 8, 9], [1, 2, 3]])\n",
    "print(np.empty([3,2]))\n",
    "#[[0. 0.]\n",
    "#[0. 0.]\n",
    "#[0. 0.]]\n",
    "print(np.zeros([2,3]))\n",
    "print(np.ones([2,3]))\n",
    "#[[0. 0. 0.]\n",
    "# [0. 0. 0.]]"
   ]
  },
  {
   "cell_type": "markdown",
   "metadata": {},
   "source": [
    "3 dimension\n"
   ]
  },
  {
   "cell_type": "code",
   "execution_count": 11,
   "metadata": {},
   "outputs": [
    {
     "name": "stdout",
     "output_type": "stream",
     "text": [
      "[[[1 2 3]\n",
      "  [4 5 6]]\n",
      "\n",
      " [[1 2 3]\n",
      "  [4 5 6]]\n",
      "\n",
      " [[1 2 3]\n",
      "  [4 5 6]]]\n",
      "[[[0.14285714 0.25      ]]\n",
      "\n",
      " [[0.33333333 4.        ]]\n",
      "\n",
      " [[2.5        2.        ]]]\n",
      "[[[1. 1.]\n",
      "  [1. 1.]]\n",
      "\n",
      " [[1. 1.]\n",
      "  [1. 1.]]]\n",
      "[[[0. 0. 0. 0.]]]\n"
     ]
    }
   ],
   "source": [
    "print(np.array([\n",
    "    [[1,2,3],[4,5,6]],\n",
    "    [[1,2,3],[4,5,6]],\n",
    "    [[1,2,3],[4,5,6]]\n",
    "]   \n",
    "))\n",
    "#3*2*3\n",
    "print(np.empty([3,1,2]))\n",
    "print(np.ones([2,2,2]))\n",
    "print(np.zeros([1,1,4]))"
   ]
  },
  {
   "cell_type": "markdown",
   "metadata": {},
   "source": [
    "counting"
   ]
  },
  {
   "cell_type": "code",
   "execution_count": 9,
   "metadata": {},
   "outputs": [
    {
     "name": "stdout",
     "output_type": "stream",
     "text": [
      "[[0.14285714 0.25      ]\n",
      " [0.33333333 4.        ]\n",
      " [2.5        2.        ]]\n",
      "[[0. 0. 0.]\n",
      " [0. 0. 0.]]\n",
      "[[1. 1. 1.]\n",
      " [1. 1. 1.]]\n",
      "[[[1. 1. 1.]\n",
      "  [1. 1. 1.]\n",
      "  [1. 1. 1.]]\n",
      "\n",
      " [[1. 1. 1.]\n",
      "  [1. 1. 1.]\n",
      "  [1. 1. 1.]]]\n",
      "[[ 8 10 12]\n",
      " [ 5  7  9]]\n",
      "[[ 6  6  6]\n",
      " [-3 -3 -3]]\n",
      "[[ 7 16 27]\n",
      " [ 4 10 18]]\n",
      "[[0.14285714 0.25       0.33333333]\n",
      " [4.         2.5        2.        ]]\n"
     ]
    }
   ],
   "source": [
    "import numpy as np\n",
    "A = np.array([[1, 2, 3], [4, 5, 6]])\n",
    "B = np.array([[7, 8, 9], [1, 2, 3]])\n",
    "\n",
    "\n",
    "result1 = A+B\n",
    "print(result1)\n",
    "#[[ 8 10 12]\n",
    "#[ 5  7  9]]\n",
    "result2 = B-A\n",
    "print(result2)\n",
    "#[[ 6  6  6]\n",
    "#[-3 -3 -3]]\n",
    "result3 =A*B\n",
    "print(result3)\n",
    "#[[ 7 16 27]\n",
    "#[ 4 10 18]]\n",
    "result4 =A/B\n",
    "print(result4)\n",
    "#[[0.14285714 0.25       0.33333333]\n",
    "#[4.         2.5        2.        ]]\n",
    "\n"
   ]
  },
  {
   "cell_type": "markdown",
   "metadata": {},
   "source": [
    "Transpose"
   ]
  },
  {
   "cell_type": "code",
   "execution_count": 4,
   "metadata": {},
   "outputs": [
    {
     "name": "stdout",
     "output_type": "stream",
     "text": [
      "[[1 2]\n",
      " [3 4]]\n",
      "[[1 3]\n",
      " [2 4]]\n"
     ]
    }
   ],
   "source": [
    "import numpy as np\n",
    "\n",
    "A = np.array([[1,2],[3,4]])\n",
    "print(A)\n",
    "# 1 2 \n",
    "# 3 4\n",
    "print(A.T)\n",
    "# 1 3\n",
    "# 2 4 \n",
    "\n"
   ]
  },
  {
   "cell_type": "markdown",
   "metadata": {},
   "source": [
    "dot product ( matrix multiply ) "
   ]
  },
  {
   "cell_type": "code",
   "execution_count": 5,
   "metadata": {},
   "outputs": [
    {
     "name": "stdout",
     "output_type": "stream",
     "text": [
      "[[12 18 24]\n",
      " [39 54 69]]\n"
     ]
    }
   ],
   "source": [
    "import numpy as np\n",
    "\n",
    "A = np.array([[1, 2, 3], [4, 5, 6]])\n",
    "#2*3\n",
    "B = np.array([[7, 8, 9], [1, 2, 3], [1, 2, 3]])\n",
    "#3*3\n",
    "result_1 = A.dot(B)\n",
    "#2*3\n",
    "print(result_1)\n",
    "# [[12 18 24]\n",
    "#  [39 54 69]]"
   ]
  },
  {
   "cell_type": "markdown",
   "metadata": {},
   "source": [
    "inner product\n",
    "ABT"
   ]
  },
  {
   "cell_type": "code",
   "execution_count": 13,
   "metadata": {},
   "outputs": [
    {
     "name": "stdout",
     "output_type": "stream",
     "text": [
      "[2. 4. 6.]\n",
      "[[26  6]\n",
      " [62 15]]\n",
      "[[26  6]\n",
      " [62 15]]\n"
     ]
    }
   ],
   "source": [
    "import numpy as np\n",
    "A = np.array([[1, 2, 3], [4, 5, 6]])\n",
    "B = np.array([[3, 4, 5], [1, 1, 1]])\n",
    "\n",
    "\n",
    "result1 = np.inner(A,B)\n",
    "result2 = A.dot(B.T)\n",
    "print(result1)\n",
    "print(result2)\n",
    "#[[26  6]\n",
    "# [62 15]]\n"
   ]
  },
  {
   "cell_type": "markdown",
   "metadata": {},
   "source": [
    "outer product"
   ]
  },
  {
   "cell_type": "code",
   "execution_count": 14,
   "metadata": {},
   "outputs": [
    {
     "name": "stdout",
     "output_type": "stream",
     "text": [
      "[[ 4  1  3  3  2  0  1  5  3]\n",
      " [ 8  2  6  6  4  0  2 10  6]\n",
      " [12  3  9  9  6  0  3 15  9]\n",
      " [ 8  2  6  6  4  0  2 10  6]\n",
      " [ 4  1  3  3  2  0  1  5  3]\n",
      " [ 0  0  0  0  0  0  0  0  0]\n",
      " [16  4 12 12  8  0  4 20 12]\n",
      " [20  5 15 15 10  0  5 25 15]\n",
      " [12  3  9  9  6  0  3 15  9]]\n"
     ]
    }
   ],
   "source": [
    "import numpy as np\n",
    "\n",
    "A = np.array([[1,2,3],[2,1,0],[4,5,3]])\n",
    "B = np.array([[4,1,3],[3,2,0],[1,5,3]])\n",
    "\n",
    "result1 = np.outer(A,B)\n",
    "\n",
    "print(result1)\n"
   ]
  }
 ],
 "metadata": {
  "kernelspec": {
   "display_name": "Python 3.9.7 64-bit",
   "language": "python",
   "name": "python3"
  },
  "language_info": {
   "codemirror_mode": {
    "name": "ipython",
    "version": 3
   },
   "file_extension": ".py",
   "mimetype": "text/x-python",
   "name": "python",
   "nbconvert_exporter": "python",
   "pygments_lexer": "ipython3",
   "version": "3.9.7"
  },
  "orig_nbformat": 4,
  "vscode": {
   "interpreter": {
    "hash": "cf92aa13fedf815d5c8dd192b8d835913fde3e8bc926b2a0ad6cc74ef2ba3ca2"
   }
  }
 },
 "nbformat": 4,
 "nbformat_minor": 2
}

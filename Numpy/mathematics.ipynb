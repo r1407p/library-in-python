{
 "cells": [
  {
   "cell_type": "markdown",
   "metadata": {},
   "source": [
    "<h1 style = \"color:#FFFF00\">\n",
    "add\n",
    "<h3>\n",
    "  \n",
    "</h3>"
   ]
  },
  {
   "cell_type": "code",
   "execution_count": 2,
   "metadata": {},
   "outputs": [
    {
     "name": "stdout",
     "output_type": "stream",
     "text": [
      "[5 7 9]\n",
      "[5 7 9]\n"
     ]
    }
   ],
   "source": [
    "import numpy as np\n",
    "A = np.array([1,2,3])\n",
    "B = np.array([4,5,6])\n",
    "C = A+B\n",
    "print(C)\n",
    "print(np.add(A,B))\n",
    "#[5 7 9]"
   ]
  },
  {
   "cell_type": "markdown",
   "metadata": {},
   "source": [
    "<h1 style = \"color:#FFFF00\">\n",
    "subtract\n",
    "<h3>\n",
    "  \n",
    "</h3>"
   ]
  },
  {
   "cell_type": "code",
   "execution_count": 3,
   "metadata": {},
   "outputs": [
    {
     "name": "stdout",
     "output_type": "stream",
     "text": [
      "[-3 -3 -3]\n",
      "[-3 -3 -3]\n"
     ]
    }
   ],
   "source": [
    "import numpy as np\n",
    "A = np.array([1,2,3])\n",
    "B = np.array([4,5,6])\n",
    "C = A-B\n",
    "print(C)\n",
    "print(np.subtract(A,B))\n",
    "#[-3 -3 -3]\n"
   ]
  },
  {
   "cell_type": "markdown",
   "metadata": {},
   "source": [
    "<h1 style = \"color:#FFFF00\">\n",
    "multiply\n",
    "<h3>\n",
    "  \n",
    "</h3>"
   ]
  },
  {
   "cell_type": "code",
   "execution_count": 4,
   "metadata": {},
   "outputs": [
    {
     "name": "stdout",
     "output_type": "stream",
     "text": [
      "[ 4 10 18]\n",
      "[ 4 10 18]\n"
     ]
    }
   ],
   "source": [
    "import numpy as np\n",
    "A = np.array([1,2,3])\n",
    "B = np.array([4,5,6])\n",
    "C = A *B \n",
    "print(C)\n",
    "print(np.multiply(A,B))\n",
    "#[4 10 18]\n"
   ]
  },
  {
   "cell_type": "markdown",
   "metadata": {},
   "source": [
    "<h1 style = \"color:#FFFF00\">\n",
    "divide\n",
    "<h3>\n",
    "  \n",
    "</h3>"
   ]
  },
  {
   "cell_type": "code",
   "execution_count": 5,
   "metadata": {},
   "outputs": [
    {
     "name": "stdout",
     "output_type": "stream",
     "text": [
      "[0.25 0.4  0.5 ]\n",
      "[0.25 0.4  0.5 ]\n"
     ]
    }
   ],
   "source": [
    "import numpy as np\n",
    "A = np.array([1,2,3])\n",
    "B = np.array([4,5,6])\n",
    "C = A/B\n",
    "print(C)\n",
    "print(np.divide(A,B))"
   ]
  },
  {
   "cell_type": "markdown",
   "metadata": {},
   "source": [
    "<h1 style = \"color:#FFFF00\">\n",
    "other math\n",
    "<h3>\n",
    "  \n",
    "</h3>"
   ]
  },
  {
   "cell_type": "code",
   "execution_count": 16,
   "metadata": {},
   "outputs": [
    {
     "name": "stdout",
     "output_type": "stream",
     "text": [
      "[1 2 3]\n",
      "[1 2 3]\n",
      "[2. 3. 5.]\n",
      "[1.38629436 2.19722458 3.21887582]\n",
      "[ 0.54030231 -0.41614684 -0.9899925 ]\n",
      "[-0.84147098  0.90929743 -0.14112001]\n",
      "[-0.78539816  1.10714872 -1.24904577]\n"
     ]
    }
   ],
   "source": [
    "import numpy as np\n",
    "A = np.array([-1,2,-3])\n",
    "B = np.array([4,9,25])\n",
    "print(np.abs(A))\n",
    "print(np.absolute(A))\n",
    "#[1 2 3]\n",
    "\n",
    "print(np.sqrt(B))\n",
    "#[2. 3. 5.]\n",
    "print(np.log(B))\n",
    "#[1.38629436 2.19722458 3.21887582]\n",
    "print(np.cos(A))\n",
    "#[ 0.54030231 -0.41614684 -0.9899925 ]\n",
    "print(np.sin(A))\n",
    "#[-0.84147098  0.90929743 -0.14112001]\n",
    "print(np.arctan(A))\n",
    "#[-0.78539816  1.10714872 -1.24904577]"
   ]
  },
  {
   "cell_type": "markdown",
   "metadata": {},
   "source": [
    "<h1 style = \"color:#FFFF00\">\n",
    "comparision\n",
    "<h1>\n",
    "<h3>\n",
    "  \n",
    "</h3>"
   ]
  },
  {
   "cell_type": "code",
   "execution_count": 1,
   "metadata": {},
   "outputs": [
    {
     "name": "stdout",
     "output_type": "stream",
     "text": [
      "[False False  True]\n",
      "[False  True False]\n",
      "[ True False False]\n"
     ]
    }
   ],
   "source": [
    "import numpy as np\n",
    "A = np.array([1,5,9])\n",
    "B = np.array([4,5,6])\n",
    "print(A>B)\n",
    "#[False False  True]\n",
    "print(A==B)\n",
    "#[False  True False]\n",
    "print(A<B)\n",
    "#[ True False False]\n"
   ]
  },
  {
   "cell_type": "markdown",
   "metadata": {},
   "source": [
    "<h1 style = \"color:#FFFF00\">\n",
    "add\n",
    "<h3>\n",
    "  \n",
    "</h3>"
   ]
  },
  {
   "cell_type": "code",
   "execution_count": null,
   "metadata": {},
   "outputs": [],
   "source": [
    "import numpy as np\n",
    "A = np.array([1,2,3])\n",
    "B = np.array([4,5,6])\n"
   ]
  },
  {
   "cell_type": "markdown",
   "metadata": {},
   "source": [
    "<h1 style = \"color:#FFFF00\">\n",
    "add\n",
    "<h3>\n",
    "  \n",
    "</h3>"
   ]
  },
  {
   "cell_type": "code",
   "execution_count": null,
   "metadata": {},
   "outputs": [],
   "source": [
    "import numpy as np\n",
    "A = np.array([1,2,3])\n",
    "B = np.array([4,5,6])\n"
   ]
  },
  {
   "cell_type": "markdown",
   "metadata": {},
   "source": [
    "<h1 style = \"color:#FFFF00\">\n",
    "add\n",
    "<h3>\n",
    "  \n",
    "</h3>"
   ]
  },
  {
   "cell_type": "code",
   "execution_count": null,
   "metadata": {},
   "outputs": [],
   "source": [
    "import numpy as np\n",
    "A = np.array([1,2,3])\n",
    "B = np.array([4,5,6])\n"
   ]
  }
 ],
 "metadata": {
  "kernelspec": {
   "display_name": "Python 3.9.7 64-bit",
   "language": "python",
   "name": "python3"
  },
  "language_info": {
   "codemirror_mode": {
    "name": "ipython",
    "version": 3
   },
   "file_extension": ".py",
   "mimetype": "text/x-python",
   "name": "python",
   "nbconvert_exporter": "python",
   "pygments_lexer": "ipython3",
   "version": "3.9.7"
  },
  "orig_nbformat": 4,
  "vscode": {
   "interpreter": {
    "hash": "cf92aa13fedf815d5c8dd192b8d835913fde3e8bc926b2a0ad6cc74ef2ba3ca2"
   }
  }
 },
 "nbformat": 4,
 "nbformat_minor": 2
}

{
 "cells": [
  {
   "cell_type": "markdown",
   "metadata": {},
   "source": [
    "<h1 style = \"color:#FFFF00;font-style: italic;font-weight:500;\">\n",
    "arr.ndim\n",
    "</h1>\n",
    "<h3>\n",
    "    can know the dimension of the array\n",
    "</h3>"
   ]
  },
  {
   "cell_type": "code",
   "execution_count": 6,
   "metadata": {},
   "outputs": [
    {
     "name": "stdout",
     "output_type": "stream",
     "text": [
      "1\n",
      "2\n",
      "7\n"
     ]
    }
   ],
   "source": [
    "import numpy as np\n",
    "arr0 = np.array([1,2,3,4])\n",
    "print(arr0.ndim)\n",
    "#1\n",
    "arr1 = np.array([[1,2],[2,3]])\n",
    "print(arr1.ndim)\n",
    "#2\n",
    "arr2 = np.ones([4,3,1,5,2,4,5])\n",
    "print(arr2.ndim)\n",
    "#7"
   ]
  },
  {
   "cell_type": "markdown",
   "metadata": {},
   "source": [
    "<h1 style = \"color:#FFFF00\">\n",
    "I/O\n",
    "</h1>"
   ]
  },
  {
   "cell_type": "code",
   "execution_count": 6,
   "metadata": {},
   "outputs": [
    {
     "name": "stdout",
     "output_type": "stream",
     "text": [
      "[1 2 3]\n",
      "[1. 2. 3.]\n"
     ]
    }
   ],
   "source": [
    "import numpy as np\n",
    "ori = np.array([1,2,3])\n",
    "np.save(\"my_array\",ori)\n",
    "# it will be at .npy document\n",
    "np.savetxt('my_array.txt', ori)\n",
    "array_from_npy = np.load('my_array.npy')\n",
    "print(array_from_npy)\n",
    "array_from_txtfile = np.loadtxt('my_array.txt')\n",
    "print(array_from_txtfile)\n"
   ]
  },
  {
   "cell_type": "markdown",
   "metadata": {},
   "source": [
    "<h1 style = \"color:#FFFF00\">\n",
    "data type (dtype)\n",
    "<h3>\n",
    "    <img src = \"./picture/numpy_dtype.png\"/>\n",
    "</h3>"
   ]
  },
  {
   "cell_type": "code",
   "execution_count": 14,
   "metadata": {},
   "outputs": [
    {
     "name": "stdout",
     "output_type": "stream",
     "text": [
      "[1 3 5]\n",
      "[255 251   9]\n",
      "[ 1.5 35.3 93. ]\n",
      "[ 1 35 93]\n"
     ]
    }
   ],
   "source": [
    "import numpy as np\n",
    "A = np.array([1.2,3.7,5.4],dtype=\"int8\")\n",
    "print(A)\n",
    "#[1 3 5]\n",
    "B = np.array([-1.4,-5,9],dtype = \"uint8\")\n",
    "print(B)\n",
    "#[255 251   9]\n",
    "x = np.float32([1.5,35.3,93])\n",
    "print(x)\n",
    "#[ 1.5 35.3 93. ]\n",
    "x = np.int_(x)\n",
    "print(x)\n",
    "#[ 1 35 93]\n"
   ]
  },
  {
   "cell_type": "markdown",
   "metadata": {},
   "source": [
    "<h1 style = \"color:#FFFF00\">\n",
    "\n",
    "</h1>\n",
    "<h3>\n",
    "    \n",
    "</h3>"
   ]
  },
  {
   "cell_type": "markdown",
   "metadata": {},
   "source": [
    "<h1 style = \"color:#FFFF00\">\n",
    "\n",
    "</h1>\n",
    "<h3>\n",
    "    \n",
    "</h3>"
   ]
  },
  {
   "cell_type": "markdown",
   "metadata": {},
   "source": [
    "<h1 style = \"color:#FFFF00\">\n",
    "\n",
    "</h1>\n",
    "<h3>\n",
    "    \n",
    "</h3>"
   ]
  },
  {
   "cell_type": "markdown",
   "metadata": {},
   "source": [
    "<h1 style = \"color:#FFFF00\">\n",
    "\n",
    "</h1>\n",
    "<h3>\n",
    "    \n",
    "</h3>"
   ]
  },
  {
   "cell_type": "markdown",
   "metadata": {},
   "source": [
    "<h1 style = \"color:#FFFF00\">\n",
    "\n",
    "</h1>\n",
    "<h3>\n",
    "    \n",
    "</h3>"
   ]
  }
 ],
 "metadata": {
  "kernelspec": {
   "display_name": "Python 3.9.7 64-bit",
   "language": "python",
   "name": "python3"
  },
  "language_info": {
   "codemirror_mode": {
    "name": "ipython",
    "version": 3
   },
   "file_extension": ".py",
   "mimetype": "text/x-python",
   "name": "python",
   "nbconvert_exporter": "python",
   "pygments_lexer": "ipython3",
   "version": "3.9.7"
  },
  "orig_nbformat": 4,
  "vscode": {
   "interpreter": {
    "hash": "cf92aa13fedf815d5c8dd192b8d835913fde3e8bc926b2a0ad6cc74ef2ba3ca2"
   }
  }
 },
 "nbformat": 4,
 "nbformat_minor": 2
}

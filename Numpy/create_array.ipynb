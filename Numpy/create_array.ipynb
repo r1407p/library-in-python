{
 "cells": [
  {
   "cell_type": "markdown",
   "metadata": {},
   "source": [
    "1 dimension\n"
   ]
  },
  {
   "cell_type": "code",
   "execution_count": null,
   "metadata": {},
   "outputs": [],
   "source": [
    "import numpy as np\n",
    "A = np.array([1,2,3])\n",
    "print(A)\n",
    "#[1 2 3]\n",
    "print(type(A))\n",
    "#[1 2 3]\n",
    "print(np.zeros(7))\n",
    "#[0. 0. 0. 0. 0. 0. 0.]\n",
    "print(np.ones(12))\n",
    "#[1. 1. 1. 1. 1. 1. 1. 1. 1. 1. 1. 1.]\n",
    "print(np.empty(3).size)\n",
    "#np.empty create an array but dont assign  value\n",
    "print(np.arange(10,dtype= float))\n",
    "#[0 1 2 3 4 5 6 7 8 9]\n",
    "print(np.arange(10,20))\n",
    "#[10 11 12 13 14 15 16 17 18 19]\n",
    "print(np.arange(10,20,3))\n",
    "#[10 13 16 19]\n",
    "print(np.linspace(0,10,5))\n",
    "#[ 0.   2.5  5.   7.5 10. ]\n",
    "print(np.asarray(A)) # copy\n",
    "#[1 2 3]\n",
    "print(np.ones_like(A)) \n",
    "#create an nd array same as a but value are all one\n",
    "#[1 1 1] \n",
    "print(np.zeros_like(A)) \n",
    "#create an nd array same as a but value are all zero\n",
    "#[0 0 0] \n",
    "print(np.empty(A)) \n",
    "#create an nd array same as a but value are all empty\n",
    "print(np.full(5,8))\n",
    "#[8 8 8 8 8]\n",
    "print(np.random.random((2,3)))\n",
    "#[[0.57281141 0.98874283 0.44597598]\n",
    " #[0.0412086  0.64839552 0.04160949]]"
   ]
  },
  {
   "cell_type": "markdown",
   "metadata": {},
   "source": [
    "<h1 style = \"color:#FFFF00;font-style: italic;font-weight:500;\">\n",
    "\tnp.random.randint(low,high = None,size = None,dtype = int)\n",
    "</h1>\n",
    "<h3>\n",
    "    low:the smallest\n",
    "</h3>\n",
    "<h3>\n",
    "    high: if exist, the biggest. otherwise values will betweem 0 ~low\n",
    "</h3>\n",
    "<h3>\n",
    "    size: dimension\n",
    "</h3>\n",
    "<h3>\n",
    "    dtype: type of values\n",
    "</h3>"
   ]
  },
  {
   "cell_type": "code",
   "execution_count": 4,
   "metadata": {},
   "outputs": [
    {
     "name": "stdout",
     "output_type": "stream",
     "text": [
      "11\n",
      "[21 16 12  3 28 22 13 11 29  4]\n",
      "[[7 9 7 8 5]\n",
      " [3 3 4 0 6]\n",
      " [3 0 3 0 6]]\n"
     ]
    }
   ],
   "source": [
    "import numpy as np\n",
    "\n",
    "A = np.random.randint(10, 20)\n",
    "print(A)\n",
    "# one of 10~19, ex:14\n",
    "\n",
    "B  =np.random.randint(0,30,10)\n",
    "print(B)\n",
    "# ex: [ 5  0 18  3  9  8 28 28 17 22]\n",
    "\n",
    "C = np.random.randint(10,size=(3,5))\n",
    "print(C)\n",
    "#[[7 9 7 8 5]\n",
    "# [3 3 4 0 6]\n",
    "# [3 0 3 0 6]]"
   ]
  },
  {
   "cell_type": "markdown",
   "metadata": {},
   "source": [
    "<h1 style = \"color:#FFFF00;font-style: italic;font-weight:500;\">\n",
    "\tnp.arange(start,stop,step = 1)\n",
    "</h1>\n",
    "<h3>\n",
    "\n",
    "</h3>"
   ]
  },
  {
   "cell_type": "code",
   "execution_count": 9,
   "metadata": {},
   "outputs": [
    {
     "name": "stdout",
     "output_type": "stream",
     "text": [
      "[0 1 2 3 4 5 6 7]\n",
      "[1 2 3 4 5 6 7 8 9]\n",
      "[ 1  4  7 10]\n"
     ]
    }
   ],
   "source": [
    "import numpy as np\n",
    "A = np.arange(8)\n",
    "print(A)\n",
    "#[0 1 2 3 4 5 6 7]\n",
    "B = np.arange(1,10)\n",
    "print(B)\n",
    "#[1 2 3 4 5 6 7 8 9]\n",
    "C = np.arange(1,11,3)\n",
    "print(C)\n",
    "#[1 4 7 10]"
   ]
  },
  {
   "cell_type": "markdown",
   "metadata": {},
   "source": [
    "<h1 style = \"color:#FFFF00;font-style: italic;font-weight:500;\">\n",
    "\tnp.linspace(start,end(included),num)\n",
    "</h1>\n",
    "<h3>\n",
    "\n",
    "</h3>"
   ]
  },
  {
   "cell_type": "code",
   "execution_count": 1,
   "metadata": {},
   "outputs": [
    {
     "name": "stdout",
     "output_type": "stream",
     "text": [
      "[0.         0.22222222 0.44444444 0.66666667 0.88888889 1.11111111\n",
      " 1.33333333 1.55555556 1.77777778 2.        ]\n"
     ]
    }
   ],
   "source": [
    "import numpy as np\n",
    "A = np.linspace(0,2,10)\n",
    "print(A)\n",
    "#[0.         0.22222222 0.44444444 0.66666667 0.88888889 1.11111111 1.33333333 1.55555556 1.77777778 2.        ]"
   ]
  },
  {
   "cell_type": "markdown",
   "metadata": {},
   "source": [
    "<h1 style = \"color:#FFFF00;font-style: italic;font-weight:500;\">\n",
    "    Reshape\n",
    "</h1>\n",
    "<h1 style = \"color:#FFFF00;font-style: italic;font-weight:500;\">\n",
    "    np.reshape(arr,newshape)\n",
    "</h1>\n",
    "<h3>\n",
    "\n",
    "</h3>"
   ]
  },
  {
   "cell_type": "code",
   "execution_count": 8,
   "metadata": {},
   "outputs": [
    {
     "name": "stdout",
     "output_type": "stream",
     "text": [
      "[ 0  1  2  3  4  5  6  7  8  9 10 11 12 13 14 15]\n",
      "[[ 0  1  2  3  4  5  6  7]\n",
      " [ 8  9 10 11 12 13 14 15]]\n",
      "[[ 0  1  2  3  4  5  6  7]\n",
      " [ 8  9 10 11 12 13 14 15]]\n",
      "[[ 0  1  2  3]\n",
      " [ 4  5  6  7]\n",
      " [ 8  9 10 11]\n",
      " [12 13 14 15]]\n",
      "[[ 0  1  2  3]\n",
      " [ 4  5  6  7]\n",
      " [ 8  9 10 11]\n",
      " [12 13 14 15]]\n"
     ]
    }
   ],
   "source": [
    "import numpy as np;\n",
    "A = np.arange(16)\n",
    "print(A)\n",
    "#[ 0  1  2  3  4  5  6  7  8  9 10 11 12 13 14 15]\n",
    "print(np.reshape(A,(2,8)))\n",
    "#[[ 0  1  2  3  4  5  6  7]\n",
    "#[ 8  9 10 11 12 13 14 15]]\n",
    "print(np.reshape(A,(2,-1)))\n",
    "#[[ 0  1  2  3  4  5  6  7]\n",
    "#[ 8  9 10 11 12 13 14 15]]\n",
    "print(np.reshape(A,(4,-1)))\n",
    "#[[ 0  1  2  3]\n",
    "# [ 4  5  6  7]\n",
    "# [ 8  9 10 11]\n",
    "# [12 13 14 15]]\n",
    "print(np.reshape(A,(-1,4)))\n",
    "#[[ 0  1  2  3]\n",
    "# [ 4  5  6  7]\n",
    "# [ 8  9 10 11]\n",
    "# [12 13 14 15]]\n"
   ]
  },
  {
   "cell_type": "markdown",
   "metadata": {},
   "source": [
    "2 dimension\n"
   ]
  },
  {
   "cell_type": "code",
   "execution_count": null,
   "metadata": {},
   "outputs": [],
   "source": [
    "import numpy as np\n",
    "A = np.array([[1, 2, 3], [4, 5, 6]])\n",
    "B = np.array([[7, 8, 9], [1, 2, 3]])\n",
    "print(A.shape)\n",
    "#(2,3)\n",
    "print(A.size)\n",
    "#6\n",
    "print(A.sum())\n",
    "\n",
    "print(np.empty((3,2)))\n",
    "#[[0. 0.]\n",
    "#[0. 0.]\n",
    "#[0. 0.]]\n",
    "print(np.zeros([2,3]))\n",
    "print(np.ones([2,3]))\n",
    "#[[0. 0. 0.]\n",
    "# [0. 0. 0.]]\n",
    "print(np.eye(3))\n",
    "#print(np.identity(3))\n",
    "#[[1. 0. 0.]\n",
    "# [0. 1. 0.]\n",
    "# [0. 0. 1.]]\n"
   ]
  },
  {
   "cell_type": "markdown",
   "metadata": {},
   "source": [
    "3 dimension"
   ]
  },
  {
   "cell_type": "code",
   "execution_count": 1,
   "metadata": {},
   "outputs": [
    {
     "name": "stdout",
     "output_type": "stream",
     "text": [
      "[[[1 2 3]\n",
      "  [4 5 6]]\n",
      "\n",
      " [[1 2 3]\n",
      "  [4 5 6]]\n",
      "\n",
      " [[1 2 3]\n",
      "  [4 5 6]]]\n",
      "[[[-8.44319057e-312 -6.71836014e-257]]\n",
      "\n",
      " [[ 8.44319602e-312  8.44319602e-312]]\n",
      "\n",
      " [[ 5.43472210e-323  2.47032823e-323]]]\n",
      "[[[1. 1.]\n",
      "  [1. 1.]]\n",
      "\n",
      " [[1. 1.]\n",
      "  [1. 1.]]]\n",
      "[[[0. 0. 0. 0.]]]\n"
     ]
    }
   ],
   "source": [
    "import numpy as np\n",
    "print(np.array([\n",
    "    [[1,2,3],[4,5,6]],\n",
    "    [[1,2,3],[4,5,6]],\n",
    "    [[1,2,3],[4,5,6]]\n",
    "]   \n",
    "))\n",
    "#3*2*3\n",
    "print(np.empty([3,1,2]))\n",
    "print(np.ones([2,2,2]))\n",
    "print(np.zeros([1,1,4]))\n"
   ]
  },
  {
   "cell_type": "markdown",
   "metadata": {},
   "source": [
    "high dimension"
   ]
  },
  {
   "cell_type": "code",
   "execution_count": null,
   "metadata": {},
   "outputs": [],
   "source": [
    "print(np.array([\n",
    "    [\n",
    "        [1,1],\n",
    "        [2,2]   \n",
    "    ]\n",
    "]))\n",
    "print(np.ones([2,1,1,2]))\n"
   ]
  }
 ],
 "metadata": {
  "kernelspec": {
   "display_name": "Python 3.9.7 64-bit",
   "language": "python",
   "name": "python3"
  },
  "language_info": {
   "codemirror_mode": {
    "name": "ipython",
    "version": 3
   },
   "file_extension": ".py",
   "mimetype": "text/x-python",
   "name": "python",
   "nbconvert_exporter": "python",
   "pygments_lexer": "ipython3",
   "version": "3.9.7"
  },
  "orig_nbformat": 4,
  "vscode": {
   "interpreter": {
    "hash": "cf92aa13fedf815d5c8dd192b8d835913fde3e8bc926b2a0ad6cc74ef2ba3ca2"
   }
  }
 },
 "nbformat": 4,
 "nbformat_minor": 2
}
